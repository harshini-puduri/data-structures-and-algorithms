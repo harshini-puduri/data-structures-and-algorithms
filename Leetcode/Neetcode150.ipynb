{
 "cells": [
  {
   "cell_type": "markdown",
   "id": "8c999e95",
   "metadata": {},
   "source": [
    "# Neetcode 150"
   ]
  },
  {
   "cell_type": "code",
   "execution_count": null,
   "id": "9a6105a5",
   "metadata": {},
   "outputs": [],
   "source": [
    "# 1423. Maximum points you can obtain from cards\n",
    "\n",
    "def maxScore(self, cardPoints: list[int], k: int) -> int:\n",
    "        l_sum = sum(cardPoints[:k])\n",
    "        max_sum = l_sum\n",
    "        r_sum = 0\n",
    "        for i in range(1,k+1):\n",
    "            l_sum -= cardPoints[k-i]\n",
    "            r_sum += cardPoints[-i]\n",
    "            max_sum = max(max_sum, l_sum+r_sum)\n",
    "        return max_sum\n",
    "\n",
    "# Time Complexity - O(n)\n",
    "# Space Complexity - O(1)"
   ]
  },
  {
   "cell_type": "code",
   "execution_count": null,
   "id": "2770be53",
   "metadata": {},
   "outputs": [],
   "source": []
  }
 ],
 "metadata": {
  "kernelspec": {
   "display_name": "Python 3",
   "language": "python",
   "name": "python3"
  },
  "language_info": {
   "codemirror_mode": {
    "name": "ipython",
    "version": 3
   },
   "file_extension": ".py",
   "mimetype": "text/x-python",
   "name": "python",
   "nbconvert_exporter": "python",
   "pygments_lexer": "ipython3",
   "version": "3.13.0"
  }
 },
 "nbformat": 4,
 "nbformat_minor": 5
}
