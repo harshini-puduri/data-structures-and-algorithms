{
 "cells": [
  {
   "cell_type": "markdown",
   "id": "8c999e95",
   "metadata": {},
   "source": [
    "# Neetcode 150"
   ]
  },
  {
   "cell_type": "code",
   "execution_count": null,
   "id": "9a6105a5",
   "metadata": {},
   "outputs": [],
   "source": [
    "# 1423. Maximum points you can obtain from cards\n",
    "\n",
    "def maxScore(self, cardPoints: list[int], k: int) -> int:\n",
    "        l_sum = sum(cardPoints[:k])\n",
    "        max_sum = l_sum\n",
    "        r_sum = 0\n",
    "        for i in range(1,k+1):\n",
    "            l_sum -= cardPoints[k-i]\n",
    "            r_sum += cardPoints[-i]\n",
    "            max_sum = max(max_sum, l_sum+r_sum)\n",
    "        return max_sum\n",
    "\n",
    "# Time Complexity - O(n)\n",
    "# Space Complexity - O(1)"
   ]
  },
  {
   "cell_type": "code",
   "execution_count": 4,
   "id": "2770be53",
   "metadata": {},
   "outputs": [],
   "source": [
    "# 3. Longest Substring Without Repeating Characters\n",
    "\n",
    "def lengthOfLongestSubstring(self, s: str) -> int:\n",
    "        char_set = set()\n",
    "        left = 0\n",
    "        max_length = 0\n",
    "\n",
    "        for right in range(len(s)):\n",
    "            while s[right] in char_set:\n",
    "                char_set.remove(s[left])\n",
    "                left+=1\n",
    "            char_set.add(s[right])\n",
    "            max_length = max(max_length,right-left+1)\n",
    "        return max_length"
   ]
  },
  {
   "cell_type": "code",
   "execution_count": 6,
   "id": "a7610660",
   "metadata": {},
   "outputs": [],
   "source": [
    "# 11. Container With Most Water\n",
    "\n",
    "def maxArea(self, height: list[int]) -> int:\n",
    "        l, r = 0, len(height)-1\n",
    "        max_area = 0\n",
    "        while l < r:\n",
    "            h = min(height[l],height[r])\n",
    "            max_area = max(max_area,h * (r-l))\n",
    "            if height[l]<height[r]:\n",
    "                l += 1\n",
    "            else:\n",
    "                r -= 1\n",
    "        return max_area"
   ]
  },
  {
   "cell_type": "code",
   "execution_count": 7,
   "id": "68db3ddd",
   "metadata": {},
   "outputs": [],
   "source": [
    "# 1004. Max Consecutive Ones III\n",
    "def longestOnes(self, nums: list[int], k: int) -> int:\n",
    "        l = 0\n",
    "        max_len = 0\n",
    "        zero = 0\n",
    "\n",
    "        for r in range(l,len(nums)):\n",
    "            if nums[r] == 0:\n",
    "                zero += 1\n",
    "\n",
    "            while zero > k:\n",
    "                if nums[l] == 0:\n",
    "                    zero -= 1\n",
    "                l += 1\n",
    "            max_len = max(max_len,r-l+1)\n",
    "        return max_len"
   ]
  },
  {
   "cell_type": "code",
   "execution_count": null,
   "id": "05b4aa86",
   "metadata": {},
   "outputs": [],
   "source": []
  }
 ],
 "metadata": {
  "kernelspec": {
   "display_name": "Python 3",
   "language": "python",
   "name": "python3"
  },
  "language_info": {
   "codemirror_mode": {
    "name": "ipython",
    "version": 3
   },
   "file_extension": ".py",
   "mimetype": "text/x-python",
   "name": "python",
   "nbconvert_exporter": "python",
   "pygments_lexer": "ipython3",
   "version": "3.13.0"
  }
 },
 "nbformat": 4,
 "nbformat_minor": 5
}
