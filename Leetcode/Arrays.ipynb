{
 "cells": [
  {
   "cell_type": "markdown",
   "id": "097362c7",
   "metadata": {},
   "source": [
    "# Arrays"
   ]
  },
  {
   "cell_type": "code",
   "execution_count": 3,
   "id": "af9d8f63",
   "metadata": {},
   "outputs": [],
   "source": [
    "#. 1920. Build Array from Permutation\n",
    "# Given a zero-based permutation nums (0-indexed), build an array ans of the same length where ans[i] = nums[nums[i]] for each 0 <= i < nums.length and return it. \n",
    "# A zero-based permutation nums is an array of distinct integers from 0 to nums.length - 1 (inclusive).\n",
    "\n",
    "def buildArray(nums: list[int]) -> list[int]:\n",
    "        return [nums[num] for num in nums]"
   ]
  },
  {
   "cell_type": "code",
   "execution_count": null,
   "id": "888ad238",
   "metadata": {},
   "outputs": [],
   "source": []
  }
 ],
 "metadata": {
  "kernelspec": {
   "display_name": "Python 3",
   "language": "python",
   "name": "python3"
  },
  "language_info": {
   "codemirror_mode": {
    "name": "ipython",
    "version": 3
   },
   "file_extension": ".py",
   "mimetype": "text/x-python",
   "name": "python",
   "nbconvert_exporter": "python",
   "pygments_lexer": "ipython3",
   "version": "3.13.0"
  }
 },
 "nbformat": 4,
 "nbformat_minor": 5
}
