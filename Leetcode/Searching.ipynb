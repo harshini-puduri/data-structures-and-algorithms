{
 "cells": [
  {
   "cell_type": "markdown",
   "id": "c9646951",
   "metadata": {},
   "source": [
    "# Leetcode Problems"
   ]
  },
  {
   "cell_type": "markdown",
   "id": "192d927c",
   "metadata": {},
   "source": [
    "## hacks:\n",
    "- If you’re looking for a number and there's a clear \"yes/no\" condition to test that number - try binary search."
   ]
  },
  {
   "cell_type": "code",
   "execution_count": 1,
   "id": "64d563e1",
   "metadata": {},
   "outputs": [],
   "source": [
    "# Sqrt(x) \n",
    "\n",
    "# Given a non-negative integer x, return the square root of x rounded down to the nearest integer. The returned integer should be non-negative as well.\n",
    "\n",
    "# You must not use any built-in exponent function or operator.\n",
    "\n",
    "# For example, do not use pow(x, 0.5) in c++ or x ** 0.5 in python.\n",
    "\n",
    "# Initial Soln\n",
    "\n",
    "def sqrt(x:int) -> int:\n",
    "    if x == 0 | x == 1 :\n",
    "        return x\n",
    "    start,end = 1,x\n",
    "    while start <= end:\n",
    "        mid = start + (end-start)//2\n",
    "        if mid == x // mid:\n",
    "            return mid\n",
    "        elif mid > x//mid:\n",
    "            end = mid - 1\n",
    "        else:\n",
    "            start = mid+1\n",
    "    return end"
   ]
  },
  {
   "cell_type": "code",
   "execution_count": 3,
   "id": "ad3ce953",
   "metadata": {},
   "outputs": [],
   "source": [
    "# 374. Guess Number Higher or Lower\n",
    "\n",
    "def guessNumber(self, n: int) -> int:\n",
    "        start= 1\n",
    "        while start<=n:\n",
    "            mid = start + ((n-start)//2)\n",
    "            if guess(mid) == 0: return mid\n",
    "            elif guess(mid) == 1: start = mid + 1\n",
    "            else: n = mid - 1"
   ]
  },
  {
   "cell_type": "code",
   "execution_count": 4,
   "id": "dafa4fa9",
   "metadata": {},
   "outputs": [],
   "source": [
    "# 278. First Bad Version\n",
    "\n",
    "def firstBadVersion(self, n: int) -> int:\n",
    "        start,end = 1,n\n",
    "        if n == 1:\n",
    "            if isBadVersion(1):\n",
    "                return 1\n",
    "            else:\n",
    "                return\n",
    "        while start<end:\n",
    "            mid = start + (end-start)//2\n",
    "            if isBadVersion(mid): end = mid\n",
    "            else: start = mid + 1\n",
    "        return start"
   ]
  },
  {
   "cell_type": "code",
   "execution_count": 21,
   "id": "c57338f1",
   "metadata": {},
   "outputs": [
    {
     "name": "stdout",
     "output_type": "stream",
     "text": [
      "7\n"
     ]
    }
   ],
   "source": [
    "# Ceiling Problem - find the smallest element in array greater than or equal to target\n",
    "\n",
    "def ceiling(list1:list,target:int) -> int:\n",
    "    start, end = 0, len(list1)-1\n",
    "    while start <= end:\n",
    "        mid = (start+end)//2\n",
    "        if list1[mid] == target:\n",
    "            return mid\n",
    "        elif target < list1[mid]:\n",
    "            end  = mid-1\n",
    "        else:\n",
    "            start = mid+1\n",
    "    return list1[start]\n",
    "\n",
    "#example\n",
    "\n",
    "list1 = [1,4,5,7,9,10,11,18]\n",
    "print(ceiling(list1,target=6))"
   ]
  },
  {
   "cell_type": "code",
   "execution_count": null,
   "id": "73532978",
   "metadata": {},
   "outputs": [],
   "source": []
  }
 ],
 "metadata": {
  "kernelspec": {
   "display_name": "Python 3",
   "language": "python",
   "name": "python3"
  },
  "language_info": {
   "codemirror_mode": {
    "name": "ipython",
    "version": 3
   },
   "file_extension": ".py",
   "mimetype": "text/x-python",
   "name": "python",
   "nbconvert_exporter": "python",
   "pygments_lexer": "ipython3",
   "version": "3.13.0"
  }
 },
 "nbformat": 4,
 "nbformat_minor": 5
}
