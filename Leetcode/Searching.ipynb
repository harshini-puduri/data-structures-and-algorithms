{
 "cells": [
  {
   "cell_type": "markdown",
   "id": "c9646951",
   "metadata": {},
   "source": [
    "# Leetcode Problems"
   ]
  },
  {
   "cell_type": "markdown",
   "id": "512cac6f",
   "metadata": {},
   "source": [
    "1. Sqrt(x) \n",
    "\n",
    "- Given a non-negative integer x, return the square root of x rounded down to the nearest integer. The returned integer should be non-negative as well.\n",
    "\n",
    "- You must not use any built-in exponent function or operator.\n",
    "\n",
    "- For example, do not use pow(x, 0.5) in c++ or x ** 0.5 in python."
   ]
  },
  {
   "cell_type": "code",
   "execution_count": 1,
   "id": "64d563e1",
   "metadata": {},
   "outputs": [],
   "source": [
    "# Initial Soln\n",
    "\n",
    "def sqrt(x:int) -> int:\n",
    "    if x == 0 | x == 1 :\n",
    "        return x\n",
    "    start,end = 1,x\n",
    "    while start <= end:\n",
    "        mid = start + (end-start)//2\n",
    "        if mid == x // mid:\n",
    "            return mid\n",
    "        elif mid > x//mid:\n",
    "            end = mid - 1\n",
    "        else:\n",
    "            start = mid+1\n",
    "    return end"
   ]
  },
  {
   "cell_type": "code",
   "execution_count": null,
   "id": "b91da0c9",
   "metadata": {},
   "outputs": [],
   "source": []
  }
 ],
 "metadata": {
  "kernelspec": {
   "display_name": "Python 3",
   "language": "python",
   "name": "python3"
  },
  "language_info": {
   "codemirror_mode": {
    "name": "ipython",
    "version": 3
   },
   "file_extension": ".py",
   "mimetype": "text/x-python",
   "name": "python",
   "nbconvert_exporter": "python",
   "pygments_lexer": "ipython3",
   "version": "3.13.0"
  }
 },
 "nbformat": 4,
 "nbformat_minor": 5
}
