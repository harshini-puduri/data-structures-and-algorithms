{
 "cells": [
  {
   "cell_type": "markdown",
   "id": "c6207189",
   "metadata": {},
   "source": [
    "# Two Pointers / Sliding Window Pattern:\n",
    "We get to see 4 patterns in this: \n",
    "1. Constant Window\n",
    "2. Longest Subarray/ Substring"
   ]
  },
  {
   "cell_type": "code",
   "execution_count": 1,
   "id": "0fc9d126",
   "metadata": {},
   "outputs": [
    {
     "name": "stdout",
     "output_type": "stream",
     "text": [
      "23\n"
     ]
    }
   ],
   "source": [
    "# Constant Window\n",
    "# find max sum you can obtain by pickking up k ellements consecutively\n",
    "\n",
    "def constant_window_sum(list1:list, k:int)->int:\n",
    "    if len(list1)<k:\n",
    "        return 0\n",
    "    \n",
    "    l,r = 0,k-1\n",
    "    window_sum = sum(list1[l:r+1])\n",
    "    max_sum = window_sum\n",
    "\n",
    "    while r < len(list1)-1:\n",
    "        window_sum -= list1[l]\n",
    "        l+=1\n",
    "        r+=1\n",
    "        window_sum += list1[r]\n",
    "        max_sum = max(max_sum,window_sum)\n",
    "    return max_sum\n",
    "\n",
    "# example\n",
    "list1 = [1,2,3,4,6,2,3,4,14]\n",
    "print(constant_window_sum(list1,k=4))"
   ]
  },
  {
   "cell_type": "code",
   "execution_count": null,
   "id": "f4f9ecb2",
   "metadata": {},
   "outputs": [],
   "source": []
  }
 ],
 "metadata": {
  "kernelspec": {
   "display_name": "Python 3",
   "language": "python",
   "name": "python3"
  },
  "language_info": {
   "codemirror_mode": {
    "name": "ipython",
    "version": 3
   },
   "file_extension": ".py",
   "mimetype": "text/x-python",
   "name": "python",
   "nbconvert_exporter": "python",
   "pygments_lexer": "ipython3",
   "version": "3.13.0"
  }
 },
 "nbformat": 4,
 "nbformat_minor": 5
}
