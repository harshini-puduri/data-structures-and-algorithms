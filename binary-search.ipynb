{
 "cells": [
  {
   "cell_type": "markdown",
   "id": "243c69a7",
   "metadata": {},
   "source": [
    "# Binary Search\n",
    "\n",
    "Notes:\n",
    "- divide and conquer\n",
    "- find out the middle element of array\n",
    "- compare it with the target \n",
    "- if the array/list follows ascending order, if target>middle - go left and repeat steps\n",
    "- else go right and repeat the steps\n",
    "\n",
    "Time Complexity:\n",
    "- Best Case: O(1) #the middle element of the array\n",
    "- Worst Case: O(log N)\n",
    "The search space is \n",
    "$$\n",
    "  step 1: N = \\frac{N}{2^0}\n",
    "$$\n",
    "$$ \n",
    "  step 2: \\frac{N}{2} = \\frac{N}{2^1}\n",
    "$$\n",
    "$$ \n",
    "  step 3: \\frac{N}{4} = \\frac{N}{2^2}\n",
    "$$\n",
    "$$ \n",
    "  step 4: \\frac{N}{8} = \\frac{N}{2^3}\n",
    "$$\n",
    "$$ \n",
    "  step k: \\frac{N}{2^m}\n",
    "$$\n",
    "at step k, number of elements = 1\n",
    "so we can write this as\n",
    "$$ \n",
    "  1 = \\frac{N}{2^m}\n",
    "$$\n",
    "$$\n",
    "  {2^m} = N\n",
    "$$\n",
    "$$\n",
    "  m log 2 = log N\n",
    "$$\n",
    "$$\n",
    "  m =\\frac{log N}{log2}\n",
    "$$\n",
    "$$\n",
    "  m = log_2 N\n",
    "$$\n",
    "\n",
    "\n",
    "- Average Case: O(log N)\n",
    "\n",
    "Space Complexity: O(1)\n",
    "\n",
    "Suppose we have 1 million elements:\n",
    "1. Linear Search does 1 million comparisons\n",
    "2. Binary Search does 20 comparisons $${log_2 (1000000) = 19.93}$$ \n"
   ]
  },
  {
   "cell_type": "code",
   "execution_count": 22,
   "id": "dc6b4266",
   "metadata": {},
   "outputs": [
    {
     "name": "stdout",
     "output_type": "stream",
     "text": [
      "(3, 10)\n"
     ]
    }
   ],
   "source": [
    "## Binary Search\n",
    "def binary_search(list1,target):\n",
    "    start = 0\n",
    "    end = len(list1)-1\n",
    "    iterations = 0\n",
    "    while(start<=end):\n",
    "        iterations += 1\n",
    "        mid = start + ((end-start)//2) # mid = (start+end)//2 works well for Python, but in some languages like Java it might lead to int overflow\n",
    "        if target < list1[mid]:\n",
    "            end = mid-1\n",
    "        elif target > list1[mid]:\n",
    "            start = mid+1\n",
    "        else:\n",
    "            return iterations, mid # target found at mid\n",
    "    return -1 # target not found\n",
    "\n",
    "    \n",
    "\n",
    "#example\n",
    "list1 = [1,4,6,22,34,45,54,65,76,86,97,100]\n",
    "print(binary_search(list1, target=97))"
   ]
  },
  {
   "cell_type": "code",
   "execution_count": 23,
   "id": "0f3a8ff3",
   "metadata": {},
   "outputs": [
    {
     "name": "stdout",
     "output_type": "stream",
     "text": [
      "11\n",
      "8\n"
     ]
    }
   ],
   "source": [
    "## Order Agnostic Binary Search\n",
    "## goal - to have the Time Complexity same as vanilla binary search\n",
    "\n",
    "def order_agnostic_binary(list1, target):\n",
    "    start = 0\n",
    "    end = len(list1)-1\n",
    "    is_ascending = list1[start] < list1[end]\n",
    "    while(start<=end):\n",
    "        mid = start + ((end-start)//2)\n",
    "        if target == list1[mid]:\n",
    "            return mid\n",
    "    \n",
    "        if is_ascending:\n",
    "            if target < list1[mid]:\n",
    "                end = mid - 1\n",
    "            elif target > list1[mid]:\n",
    "                start = mid + 1\n",
    "        else:\n",
    "            if target < list1[mid]:\n",
    "                start = mid + 1\n",
    "            elif target > list1[mid]:\n",
    "                end = mid - 1\n",
    "    return -1\n",
    "    \n",
    "# example\n",
    "list1 = [1,4,6,22,34,45,54,65,76,86,97,100]\n",
    "print(order_agnostic_binary(list1, target=100))\n",
    "\n",
    "list2 = [1000, 888, 442, 332, 287, 221, 144, 99, 50, 30, 10, 1]\n",
    "print(order_agnostic_binary(list1=list2, target=50))"
   ]
  }
 ],
 "metadata": {
  "kernelspec": {
   "display_name": "Python 3",
   "language": "python",
   "name": "python3"
  },
  "language_info": {
   "codemirror_mode": {
    "name": "ipython",
    "version": 3
   },
   "file_extension": ".py",
   "mimetype": "text/x-python",
   "name": "python",
   "nbconvert_exporter": "python",
   "pygments_lexer": "ipython3",
   "version": "3.13.0"
  }
 },
 "nbformat": 4,
 "nbformat_minor": 5
}
