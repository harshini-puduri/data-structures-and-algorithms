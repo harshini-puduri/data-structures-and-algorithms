{
 "cells": [
  {
   "cell_type": "markdown",
   "id": "51a293b4",
   "metadata": {},
   "source": [
    "# Linear Search\n",
    "Notes:\n",
    "- ⁠arrays are basically lists in python\n",
    "- linear search in a string is same as a list --> they are stored in contiguous memory just like arrays/lists.\n",
    "- ⁠item assignment is not possible in strings cause they are immutable"
   ]
  },
  {
   "cell_type": "code",
   "execution_count": 5,
   "id": "af3de717",
   "metadata": {},
   "outputs": [],
   "source": [
    "## Linear Search in 1D Arrays/Lists:\n",
    "\n",
    "def linear_search(list1, target) -> int:\n",
    "    for i in range(len(list1)):\n",
    "        if target == list1[i]:\n",
    "            print(i)\n",
    "            break\n",
    "    else:\n",
    "        print(\"Not Found\")"
   ]
  },
  {
   "cell_type": "code",
   "execution_count": null,
   "id": "5dd63cad",
   "metadata": {},
   "outputs": [],
   "source": []
  }
 ],
 "metadata": {
  "language_info": {
   "name": "python"
  }
 },
 "nbformat": 4,
 "nbformat_minor": 5
}
