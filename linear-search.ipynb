{
 "cells": [
  {
   "cell_type": "markdown",
   "id": "51a293b4",
   "metadata": {},
   "source": [
    "# Linear Search\n",
    "Notes:\n",
    "- ⁠arrays are basically lists in python\n",
    "- linear search in a string is same as a list --> they are stored in contiguous memory just like arrays/lists.\n",
    "- ⁠item assignment is not possible in strings cause they are immutable\n",
    "\n",
    "Time Complexity:\n",
    "- Best Case: O(1)\n",
    "- Worst Case: O(n)\n",
    "- Average Case: O(n)\n",
    "\n",
    "Space Complexity: O(1)"
   ]
  },
  {
   "cell_type": "code",
   "execution_count": 22,
   "id": "af3de717",
   "metadata": {},
   "outputs": [
    {
     "name": "stdout",
     "output_type": "stream",
     "text": [
      "2\n"
     ]
    }
   ],
   "source": [
    "## Linear Search in 1D Arrays/Lists:\n",
    "def linear_search(list1, target) -> int:\n",
    "    for i in range(len(list1)):\n",
    "        if target == list1[i]:\n",
    "            print(i)\n",
    "            break\n",
    "    else:\n",
    "        return -1\n",
    "    \n",
    "#example:\n",
    "list1 = [1,23,44,22,77,00]\n",
    "linear_search(list1,target=44)"
   ]
  },
  {
   "cell_type": "code",
   "execution_count": 26,
   "id": "5dd63cad",
   "metadata": {},
   "outputs": [
    {
     "name": "stdout",
     "output_type": "stream",
     "text": [
      "[1, 2]\n"
     ]
    }
   ],
   "source": [
    "## Linear Search in 2D Lists:\n",
    "\n",
    "def linear_search_2D(list1, target) -> int:\n",
    "    for i in range(len(list1)):\n",
    "        for j in range(len(list1[i])):\n",
    "            if target == list1[i][j]:\n",
    "                print([i,j])\n",
    "                return\n",
    "    else:\n",
    "        return -1\n",
    "    \n",
    "#example:\n",
    "list1 = [[1,45,6,6],[5,7,9,8]]\n",
    "linear_search_2D(list1,target=9)\n"
   ]
  },
  {
   "cell_type": "code",
   "execution_count": 27,
   "id": "ed2ed6e0",
   "metadata": {},
   "outputs": [
    {
     "data": {
      "text/plain": [
       "-1"
      ]
     },
     "execution_count": 27,
     "metadata": {},
     "output_type": "execute_result"
    }
   ],
   "source": [
    "## Linear Search in Strings:\n",
    "## implemention is same as List\n",
    "\n",
    "def linear_search_str(str1, target) -> int:\n",
    "    for i in range(len(str1)):\n",
    "        if target == str1[i]:\n",
    "            print(i)\n",
    "            break\n",
    "    else:\n",
    "        return -1\n",
    "    \n",
    "#example:\n",
    "str1 = 'harshini'\n",
    "linear_search_str(str1, target='u')"
   ]
  },
  {
   "cell_type": "code",
   "execution_count": 30,
   "id": "821db82e",
   "metadata": {},
   "outputs": [
    {
     "name": "stdout",
     "output_type": "stream",
     "text": [
      "[5, 7]\n"
     ]
    }
   ],
   "source": [
    "## Linear Search with Sub-strings:\n",
    "\n",
    "def linear_search_sub_str(str1, sub_str):\n",
    "    for i in range(len(str1)-len(sub_str)+1):\n",
    "        if sub_str == str1[i:i+len(sub_str)]:\n",
    "            print([i,i+len(sub_str)-1])\n",
    "            break\n",
    "    else:\n",
    "        return -1\n",
    "    \n",
    "#example:\n",
    "str1 = 'harshini'\n",
    "linear_search_sub_str(str1, sub_str='ini')"
   ]
  },
  {
   "cell_type": "code",
   "execution_count": 31,
   "id": "233d331b",
   "metadata": {},
   "outputs": [
    {
     "name": "stdout",
     "output_type": "stream",
     "text": [
      "3\n"
     ]
    }
   ],
   "source": [
    "## Find number of elements with even number of digits in a list\n",
    "## to manipulate them, we have to use strings --> doing len(str(i)) gives us the number of digits in a element at 'i'th index\n",
    "\n",
    "def even_digit_elements(list1) -> int:\n",
    "    count = 0\n",
    "    for i in list1:\n",
    "        if len(str(i)) % 2 == 0:\n",
    "            count += 1\n",
    "    print(count)\n",
    "\n",
    "#example:\n",
    "list1 = [222, 7723, 873643, 8, 98]\n",
    "even_digit_elements(list1)"
   ]
  },
  {
   "cell_type": "code",
   "execution_count": 33,
   "id": "b8a57a7d",
   "metadata": {},
   "outputs": [
    {
     "name": "stdout",
     "output_type": "stream",
     "text": [
      "{1: 987, 2: 6543}\n"
     ]
    }
   ],
   "source": [
    "## Count number of digits in a list and return the elements with sum greater than target\n",
    "## great use of len(str), loops, and enumerate\n",
    "\n",
    "def digits_with_higher_sum(list1, target):\n",
    "    dict1 = {}\n",
    "    for index,num in enumerate(list1):\n",
    "        sum = 0\n",
    "        for x in str(num):\n",
    "            sum += int(x)\n",
    "        if sum > target:\n",
    "            dict1[index] = num\n",
    "    print(dict1)\n",
    "\n",
    "#example\n",
    "list1 = [224, 987, 6543, 634, 23]\n",
    "digits_with_higher_sum(list1, target=15)"
   ]
  },
  {
   "cell_type": "code",
   "execution_count": 34,
   "id": "608eaf6c",
   "metadata": {},
   "outputs": [
    {
     "name": "stdout",
     "output_type": "stream",
     "text": [
      "4\n"
     ]
    }
   ],
   "source": [
    "## Optimized way to find number of digits in a list\n",
    "import math\n",
    "\n",
    "num = 8343\n",
    "x = int(math.log10(num))+1\n",
    "print(x)"
   ]
  },
  {
   "cell_type": "code",
   "execution_count": 43,
   "id": "71abf678",
   "metadata": {},
   "outputs": [
    {
     "name": "stdout",
     "output_type": "stream",
     "text": [
      "6\n",
      "6\n"
     ]
    }
   ],
   "source": [
    "## Leetcode Max Wealth Problem\n",
    "\n",
    "## accounts[i][j] means amount of money 'i'th person has in 'j'th bank. \n",
    "## goal --> return wealth the richest customer has\n",
    "\n",
    "accounts = [[1,2,3],[3,2,1]]\n",
    "\n",
    "def wealth_of_richest(accounts) -> int:\n",
    "    max_wealth = 0\n",
    "    for customer in accounts:\n",
    "        wealth = sum(customer)\n",
    "        if wealth > max_wealth:\n",
    "            max_wealth = wealth\n",
    "    return max_wealth\n",
    "\n",
    "print(wealth_of_richest(accounts))\n",
    "\n",
    "# optimized version \n",
    "\n",
    "def wealth_of_richest_optim(accounts) -> int:\n",
    "    return max(sum(customer) for customer in accounts)\n",
    "\n",
    "print(wealth_of_richest_optim(accounts))"
   ]
  }
 ],
 "metadata": {
  "language_info": {
   "name": "python"
  }
 },
 "nbformat": 4,
 "nbformat_minor": 5
}
