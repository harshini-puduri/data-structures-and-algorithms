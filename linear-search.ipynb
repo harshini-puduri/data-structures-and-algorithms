{
 "cells": [
  {
   "cell_type": "markdown",
   "id": "51a293b4",
   "metadata": {},
   "source": [
    "# Linear Search\n",
    "Notes:\n",
    "- ⁠arrays are basically lists in python\n",
    "- linear search in a string is same as a list --> they are stored in contiguous memory just like arrays/lists.\n",
    "- ⁠item assignment is not possible in strings cause they are immutable"
   ]
  },
  {
   "cell_type": "code",
   "execution_count": 5,
   "id": "af3de717",
   "metadata": {},
   "outputs": [],
   "source": [
    "## Linear Search in 1D Arrays/Lists:\n",
    "\n",
    "def linear_search(list1, target) -> int:\n",
    "    for i in range(len(list1)):\n",
    "        if target == list1[i]:\n",
    "            print(i)\n",
    "            break\n",
    "    else:\n",
    "        print(\"Not Found\")"
   ]
  },
  {
   "cell_type": "code",
   "execution_count": 6,
   "id": "5dd63cad",
   "metadata": {},
   "outputs": [],
   "source": [
    "## Linear Search in 2D Lists:\n",
    "\n",
    "def linear_search_2D(list1, target) -> int:\n",
    "    for i in range(len(list1)):\n",
    "        for j in range(len(list1[i])):\n",
    "            if target == list1[i][j]:\n",
    "                print(i,j)\n",
    "                return\n",
    "    else:\n",
    "        print(\"Not Found\")"
   ]
  },
  {
   "cell_type": "code",
   "execution_count": 7,
   "id": "ed2ed6e0",
   "metadata": {},
   "outputs": [],
   "source": [
    "## Linear Search in Strings:\n",
    "## implemention is same as List\n",
    "\n",
    "def linear_search_str(str1, target) -> int:\n",
    "    for i in range(len(str1)):\n",
    "        if target == str1[i]:\n",
    "            print(i)\n",
    "            break\n",
    "    else:\n",
    "        print(\"Not Found\")"
   ]
  },
  {
   "cell_type": "code",
   "execution_count": 8,
   "id": "821db82e",
   "metadata": {},
   "outputs": [],
   "source": [
    "## Linear Search with Sub-strings:\n",
    "\n",
    "def linear_search_sub_str(str1, sub_str):\n",
    "    for i in range(len(str1)-len(sub_str)-1):\n",
    "        if sub_str == str1[i:i+len(sub_str)]:\n",
    "            print(i,i+len(sub_str))\n",
    "            break\n",
    "    else:\n",
    "        print(\"Not Found\")"
   ]
  }
 ],
 "metadata": {
  "language_info": {
   "name": "python"
  }
 },
 "nbformat": 4,
 "nbformat_minor": 5
}
